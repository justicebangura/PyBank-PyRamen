{
 "cells": [
  {
   "cell_type": "code",
   "execution_count": 1,
   "id": "19638393-55fa-46f9-8cbf-9864d618016c",
   "metadata": {
    "tags": []
   },
   "outputs": [],
   "source": [
    "# Unit 2 | Homework Assignment: Automate Your Day Job with Python"
   ]
  },
  {
   "cell_type": "code",
   "execution_count": null,
   "id": "4472bca0-46e5-4b54-9659-187eee357dd7",
   "metadata": {},
   "outputs": [],
   "source": [
    "\"\"\"\n",
    "Student Do: Grocery List.\n",
    "\n",
    "This script showcases basic operations of Python Lists to help Mike\n",
    "organize his grocery shopping list.\n",
    "\"\"\""
   ]
  }
 ],
 "metadata": {
  "kernelspec": {
   "display_name": "Python 3 (ipykernel)",
   "language": "python",
   "name": "python3"
  },
  "language_info": {
   "codemirror_mode": {
    "name": "ipython",
    "version": 3
   },
   "file_extension": ".py",
   "mimetype": "text/x-python",
   "name": "python",
   "nbconvert_exporter": "python",
   "pygments_lexer": "ipython3",
   "version": "3.10.13"
  }
 },
 "nbformat": 4,
 "nbformat_minor": 5
}
