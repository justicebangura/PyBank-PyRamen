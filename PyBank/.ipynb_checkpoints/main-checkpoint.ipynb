{
 "cells": [
  {
   "cell_type": "code",
   "execution_count": 1,
   "id": "19638393-55fa-46f9-8cbf-9864d618016c",
   "metadata": {
    "tags": []
   },
   "outputs": [],
   "source": [
    "# Unit 2 | Homework Assignment: Automate Your Day Job with Python"
   ]
  },
  {
   "cell_type": "code",
   "execution_count": 2,
   "id": "4472bca0-46e5-4b54-9659-187eee357dd7",
   "metadata": {},
   "outputs": [],
   "source": [
    "## I am creating a Python script for analyzing the financial records of a company."
   ]
  },
  {
   "cell_type": "code",
   "execution_count": 3,
   "id": "11832ab3-3627-4060-b3fa-ac3a376e8332",
   "metadata": {
    "tags": []
   },
   "outputs": [],
   "source": [
    "# Import csv and set file path\n",
    "\n",
    "import csv\n",
    "\n",
    "budget_data = '../Instructions/PyBank/Resources/budget_data.csv'"
   ]
  },
  {
   "cell_type": "code",
   "execution_count": 4,
   "id": "eef1aa41-ea44-46eb-adb8-a6c885ac881c",
   "metadata": {
    "tags": []
   },
   "outputs": [
    {
     "name": "stdout",
     "output_type": "stream",
     "text": [
      "{'Jan-2010': 867884, 'Feb-2010': 984655, 'Mar-2010': 322013, 'Apr-2010': -69417, 'May-2010': 310503, 'Jun-2010': 522857, 'Jul-2010': 1033096, 'Aug-2010': 604885, 'Sep-2010': -216386, 'Oct-2010': 477532, 'Nov-2010': 893810, 'Dec-2010': -80353, 'Jan-2011': 779806, 'Feb-2011': -335203, 'Mar-2011': 697845, 'Apr-2011': 793163, 'May-2011': 485070, 'Jun-2011': 584122, 'Jul-2011': 62729, 'Aug-2011': 668179, 'Sep-2011': 899906, 'Oct-2011': 834719, 'Nov-2011': 132003, 'Dec-2011': 309978, 'Jan-2012': -755566, 'Feb-2012': 1170593, 'Mar-2012': 252788, 'Apr-2012': 1151518, 'May-2012': 817256, 'Jun-2012': 570757, 'Jul-2012': 506702, 'Aug-2012': -1022534, 'Sep-2012': 475062, 'Oct-2012': 779976, 'Nov-2012': 144175, 'Dec-2012': 542494, 'Jan-2013': 359333, 'Feb-2013': 321469, 'Mar-2013': 67780, 'Apr-2013': 471435, 'May-2013': 565603, 'Jun-2013': 872480, 'Jul-2013': 789480, 'Aug-2013': 999942, 'Sep-2013': -1196225, 'Oct-2013': 268997, 'Nov-2013': -687986, 'Dec-2013': 1150461, 'Jan-2014': 682458, 'Feb-2014': 617856, 'Mar-2014': 824098, 'Apr-2014': 581943, 'May-2014': 132864, 'Jun-2014': 448062, 'Jul-2014': 689161, 'Aug-2014': 800701, 'Sep-2014': 1166643, 'Oct-2014': 947333, 'Nov-2014': 578668, 'Dec-2014': 988505, 'Jan-2015': 1139715, 'Feb-2015': 1029471, 'Mar-2015': 687533, 'Apr-2015': -524626, 'May-2015': 158620, 'Jun-2015': 87795, 'Jul-2015': 423389, 'Aug-2015': 840723, 'Sep-2015': 568529, 'Oct-2015': 332067, 'Nov-2015': 989499, 'Dec-2015': 778237, 'Jan-2016': 650000, 'Feb-2016': -1100387, 'Mar-2016': -174946, 'Apr-2016': 757143, 'May-2016': 445709, 'Jun-2016': 712961, 'Jul-2016': -1163797, 'Aug-2016': 569899, 'Sep-2016': 768450, 'Oct-2016': 102685, 'Nov-2016': 795914, 'Dec-2016': 60988, 'Jan-2017': 138230, 'Feb-2017': 671099}\n"
     ]
    }
   ],
   "source": [
    "# This function opens file budget_data.csv and creates a dictionary called financial_data\n",
    "\n",
    "def finance_data(budget_data):\n",
    "    \n",
    "    # initialize an empty dictionary to hold data\n",
    "    \n",
    "    financial_data = {}\n",
    "    \n",
    "    # open csv file and read data  \n",
    "    \n",
    "    with open(budget_data, 'r') as csv_file:\n",
    "        csv_reader = csv.reader(csv_file)\n",
    "    \n",
    "        # remove the first-row/header\n",
    "        \n",
    "        next(csv_reader, None)\n",
    "    \n",
    "        for row in csv_reader:\n",
    "            date, profit_loss = row\n",
    "            profit_loss = int(profit_loss)\n",
    "            financial_data[date] = profit_loss\n",
    "\n",
    "    return financial_data\n",
    "\n",
    "# Call the function and print dictionary to view\n",
    "\n",
    "financial_data = finance_data(budget_data)\n",
    "\n",
    "print(financial_data)"
   ]
  },
  {
   "cell_type": "code",
   "execution_count": 5,
   "id": "6a972576-c131-4492-99f6-679c0b97d9a9",
   "metadata": {
    "tags": []
   },
   "outputs": [],
   "source": [
    "# This function calculates the total number of months and the net total of Profit/loss using len and sum \n",
    "\n",
    "def total_month_profit_loss(financial_data):\n",
    "    return len(financial_data), sum(financial_data.values())\n",
    "\n",
    "# Call the function\n",
    "\n",
    "total_month, net_total = total_month_profit_loss(financial_data)"
   ]
  },
  {
   "cell_type": "code",
   "execution_count": 6,
   "id": "17148a2b-6306-4723-a862-a8e646aeba71",
   "metadata": {
    "tags": []
   },
   "outputs": [],
   "source": [
    "# This function calculates the average changes in Profit/Losses over the entire period using a for loop \n",
    "\n",
    "    \n",
    "def average_changes_over_period(financial_data):\n",
    "    profit_losses = list(financial_data.values())\n",
    "    total_changes = 0\n",
    "    total_months = len(profit_losses)\n",
    "\n",
    "    for months in range(1, total_months):\n",
    "        change = profit_losses[months] - profit_losses[months - 1]\n",
    "        total_changes += change\n",
    "\n",
    "    average_change = total_changes / (total_months - 1) if total_months > 1 else 0\n",
    "    return average_change\n",
    "\n",
    "\n",
    "# Call the function\n",
    "\n",
    "average_change = average_changes_over_period(financial_data)"
   ]
  },
  {
   "cell_type": "code",
   "execution_count": 7,
   "id": "724c476b-d566-42af-9d42-611e05b7ef33",
   "metadata": {
    "tags": []
   },
   "outputs": [],
   "source": [
    "# This function gets the greatest Decrease(min) and Increase(max), using for loop and conditionals\n",
    "\n",
    "def decrease_increase_profit_loss(financial_data):\n",
    "    \n",
    "    greatest_decrease_month = None\n",
    "    greatest_decrease = float('inf')  \n",
    "    greatest_increase_month = None\n",
    "    greatest_increase = float('-inf')  \n",
    "\n",
    "    for date, amount in financial_data.items():\n",
    "        if amount < greatest_decrease:\n",
    "            greatest_decrease_month = date\n",
    "            greatest_decrease = amount\n",
    "        elif amount > greatest_increase:\n",
    "            greatest_increase_month = date\n",
    "            greatest_increase = amount\n",
    "\n",
    "    return {'greatest_decrease': {'date': greatest_decrease_month, 'amount': greatest_decrease},\n",
    "            'greatest_increase': {'date': greatest_increase_month, 'amount': greatest_increase}}\n",
    "\n",
    "# Call the function\n",
    "\n",
    "answer = decrease_increase_profit_loss(financial_data)"
   ]
  },
  {
   "cell_type": "code",
   "execution_count": 8,
   "id": "6a491a92-7831-4647-af4b-40f78a850c64",
   "metadata": {
    "tags": []
   },
   "outputs": [
    {
     "name": "stdout",
     "output_type": "stream",
     "text": [
      "```Justice Bangra\n",
      "Financial Analysis\n",
      "----------------------------\n",
      "Total Months: 86\n",
      "Total: 38382578\n",
      "Average Change: -2315.12\n",
      "Greatest Increase in Profits: Feb-2012 (1170593)\n",
      "Greatest Decrease in Profits: Sep-2013 (-1196225)\n",
      "```\n"
     ]
    }
   ],
   "source": [
    "# Print Result\n",
    "\n",
    "print(\"```Justice Bangra\")\n",
    "print(\"Financial Analysis\")\n",
    "print(f\"----------------------------\")\n",
    "print(f\"Total Months: {total_month}\")\n",
    "print(f\"Total: {net_total}\")\n",
    "print(f\"Average Change: {average_change:.2f}\")\n",
    "print(f\"Greatest Increase in Profits: {answer['greatest_increase']['date']} ({answer['greatest_increase']['amount']})\")\n",
    "print(f\"Greatest Decrease in Profits: {answer['greatest_decrease']['date']} ({answer['greatest_decrease']['amount']})\")\n",
    "print(f\"```\")"
   ]
  },
  {
   "cell_type": "code",
   "execution_count": 9,
   "id": "cba05ed7-5400-4e0f-9118-118f9ca29a36",
   "metadata": {
    "tags": []
   },
   "outputs": [],
   "source": [
    "# Export analysis to folder\n",
    "\n",
    "financial_analysis = '''\n",
    "```Justice Bangra\n",
    "Financial Analysis\n",
    "----------------------------\n",
    "Total Months: 86\n",
    "Total: 38382578\n",
    "Average Change: -2315.12\n",
    "Greatest Increase in Profits: Feb-2012 (1170593)\n",
    "Greatest Decrease in Profits: Sep-2013 (-1196225)\n",
    "```\n",
    "'''\n",
    "\n",
    "file_path = \"financial_analysis.txt\"\n",
    "\n",
    "with open(file_path, 'w') as file:\n",
    "    file.write(financial_analysis)\n"
   ]
  },
  {
   "cell_type": "code",
   "execution_count": 10,
   "id": "637aeeb5-82d9-4bc6-a574-fdbc9d3fef12",
   "metadata": {
    "tags": []
   },
   "outputs": [
    {
     "name": "stdout",
     "output_type": "stream",
     "text": [
      "File has been exported :)\n"
     ]
    }
   ],
   "source": [
    "print(\"File has been exported :)\")"
   ]
  },
  {
   "cell_type": "code",
   "execution_count": null,
   "id": "bbfdae87-62b1-41c8-8dd3-b7d13fd8e6d9",
   "metadata": {},
   "outputs": [],
   "source": []
  }
 ],
 "metadata": {
  "kernelspec": {
   "display_name": "Python 3 (ipykernel)",
   "language": "python",
   "name": "python3"
  },
  "language_info": {
   "codemirror_mode": {
    "name": "ipython",
    "version": 3
   },
   "file_extension": ".py",
   "mimetype": "text/x-python",
   "name": "python",
   "nbconvert_exporter": "python",
   "pygments_lexer": "ipython3",
   "version": "3.10.13"
  }
 },
 "nbformat": 4,
 "nbformat_minor": 5
}
